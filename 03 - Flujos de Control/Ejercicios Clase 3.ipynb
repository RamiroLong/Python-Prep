{
 "cells": [
  {
   "cell_type": "code",
   "execution_count": 2,
   "metadata": {},
   "outputs": [
    {
     "name": "stdout",
     "output_type": "stream",
     "text": [
      "Es mayor que cero\n"
     ]
    }
   ],
   "source": [
    "a = 4\n",
    "if(a>0):\n",
    "    print(\"Es mayor que cero\")"
   ]
  },
  {
   "cell_type": "code",
   "execution_count": 5,
   "metadata": {},
   "outputs": [
    {
     "name": "stdout",
     "output_type": "stream",
     "text": [
      "True\n"
     ]
    }
   ],
   "source": [
    "b = 4\n",
    "c = 3\n",
    "if(type(b) == type(c)):\n",
    "    print(True)\n",
    "else: \n",
    "    print(False)"
   ]
  },
  {
   "cell_type": "code",
   "execution_count": 11,
   "metadata": {},
   "outputs": [
    {
     "name": "stdout",
     "output_type": "stream",
     "text": [
      "El numero es impar\n",
      "El numero es par\n",
      "El numero es impar\n",
      "El numero es par\n",
      "El numero es impar\n",
      "El numero es par\n",
      "El numero es impar\n",
      "El numero es par\n",
      "El numero es impar\n",
      "El numero es par\n",
      "El numero es impar\n",
      "El numero es par\n",
      "El numero es impar\n",
      "El numero es par\n",
      "El numero es impar\n",
      "El numero es par\n",
      "El numero es impar\n",
      "El numero es par\n",
      "El numero es impar\n",
      "El numero es par\n"
     ]
    }
   ],
   "source": [
    "for i in range (1,21):\n",
    " if(i%2 == 0):\n",
    "      print(\"El numero es par\")\n",
    " else:\n",
    "      print(\"El numero es impar\")\n",
    "  "
   ]
  },
  {
   "cell_type": "code",
   "execution_count": 16,
   "metadata": {},
   "outputs": [
    {
     "name": "stdout",
     "output_type": "stream",
     "text": [
      "valor 0 elevado a la 3era potencia 0\n",
      "valor 1 elevado a la 3era potencia 1\n",
      "valor 2 elevado a la 3era potencia 8\n",
      "valor 3 elevado a la 3era potencia 27\n",
      "valor 4 elevado a la 3era potencia 64\n",
      "valor 5 elevado a la 3era potencia 125\n"
     ]
    }
   ],
   "source": [
    "for i in range (0,6):\n",
    "    print(\"valor\",str(i), \"elevado a la 3era potencia\",i**3)\n"
   ]
  },
  {
   "cell_type": "code",
   "execution_count": 26,
   "metadata": {},
   "outputs": [
    {
     "name": "stdout",
     "output_type": "stream",
     "text": [
      "La cantidad de ciclos es cuatro, mi rey\n"
     ]
    }
   ],
   "source": [
    "c = 0\n",
    "h = 4 \n",
    "for i in range (c,h):\n",
    "    c = c + 1\n",
    "    if(c == 4):\n",
    "        print(\"La cantidad de ciclos es cuatro, mi rey\")\n",
    "        break\n"
   ]
  },
  {
   "cell_type": "code",
   "execution_count": 27,
   "metadata": {},
   "outputs": [
    {
     "name": "stdout",
     "output_type": "stream",
     "text": [
      "4\n",
      "12\n",
      "24\n"
     ]
    }
   ],
   "source": [
    "numero = 4\n",
    "factorial = 1\n",
    "while(numero > 1):\n",
    "    factorial = numero * factorial\n",
    "    print(factorial)\n",
    "    numero = numero - 1\n",
    "#print(factorial)"
   ]
  },
  {
   "cell_type": "code",
   "execution_count": 32,
   "metadata": {},
   "outputs": [
    {
     "name": "stdout",
     "output_type": "stream",
     "text": [
      "0\n",
      "1\n",
      "2\n",
      "3\n",
      "4\n",
      "5\n",
      "6\n"
     ]
    }
   ],
   "source": [
    "while(i!=6):\n",
    " for i in range (0,7):\n",
    "     print(i)\n",
    "\n"
   ]
  },
  {
   "cell_type": "code",
   "execution_count": 12,
   "metadata": {},
   "outputs": [
    {
     "name": "stdout",
     "output_type": "stream",
     "text": [
      "1\n",
      "2\n",
      "3\n",
      "4\n",
      "5\n",
      "6\n"
     ]
    }
   ],
   "source": [
    "for i in range (0,1):\n",
    "      \n",
    "   while (i!=6):\n",
    "     \n",
    "      i = i + 1\n",
    "      print(i)\n",
    "      if(i ==6):\n",
    "        \n",
    "         break"
   ]
  },
  {
   "cell_type": "code",
   "execution_count": 18,
   "metadata": {},
   "outputs": [
    {
     "name": "stdout",
     "output_type": "stream",
     "text": [
      "1\n",
      "2\n",
      "3\n",
      "5\n",
      "7\n",
      "11\n",
      "13\n",
      "17\n",
      "19\n",
      "23\n",
      "29\n"
     ]
    }
   ],
   "source": [
    "p = 30\n",
    "for r in range(0,p+1):\n",
    "    if r == 2 or r == 3 or r == 5 or r == 7:\n",
    "        print(r)\n",
    "    elif not(r % 2 == 0 or r%3 == 0 or r%5 == 0 or r%7 == 0):\n",
    "        print(r)\n",
    "          "
   ]
  },
  {
   "cell_type": "code",
   "execution_count": 48,
   "metadata": {},
   "outputs": [
    {
     "name": "stdout",
     "output_type": "stream",
     "text": [
      "108\n",
      "120\n",
      "132\n",
      "144\n",
      "156\n",
      "168\n",
      "180\n",
      "192\n",
      "204\n",
      "216\n",
      "228\n",
      "240\n",
      "252\n",
      "264\n",
      "276\n",
      "288\n",
      "300\n"
     ]
    }
   ],
   "source": [
    "\n",
    "    n=99\n",
    "    while (n <= 300):\n",
    "        n +=1\n",
    "        if(n % 12 != 0):\n",
    "            continue\n",
    "        print(n)\n",
    "            "
   ]
  },
  {
   "cell_type": "code",
   "execution_count": 67,
   "metadata": {},
   "outputs": [
    {
     "name": "stdout",
     "output_type": "stream",
     "text": [
      "102\n"
     ]
    }
   ],
   "source": [
    "n=100\n",
    "while(n<300):\n",
    "    if(n % 6 == 0):\n",
    "        print(n)\n",
    "        break\n",
    "    n+=1"
   ]
  },
  {
   "cell_type": "code",
   "execution_count": null,
   "metadata": {},
   "outputs": [],
   "source": []
  }
 ],
 "metadata": {
  "interpreter": {
   "hash": "be3fcdcf8320ac7293d1700040d6a92e12fb8aed0327eb636ba32a58a344ab0a"
  },
  "kernelspec": {
   "display_name": "Python 3.7.6 64-bit ('base': conda)",
   "name": "python3"
  },
  "language_info": {
   "codemirror_mode": {
    "name": "ipython",
    "version": 3
   },
   "file_extension": ".py",
   "mimetype": "text/x-python",
   "name": "python",
   "nbconvert_exporter": "python",
   "pygments_lexer": "ipython3",
   "version": "3.7.6"
  },
  "orig_nbformat": 4
 },
 "nbformat": 4,
 "nbformat_minor": 2
}
